{
  "nbformat": 4,
  "nbformat_minor": 0,
  "metadata": {
    "colab": {
      "name": "Deep Learning vs XGBoost and other Machine Learning models.ipynb",
      "provenance": [],
      "collapsed_sections": []
    },
    "kernelspec": {
      "name": "python3",
      "display_name": "Python 3"
    },
    "language_info": {
      "name": "python"
    },
    "accelerator": "GPU"
  },
  "cells": [
    {
      "cell_type": "markdown",
      "metadata": {
        "id": "62PWi7NNXWTp"
      },
      "source": [
        "# **Development and comparison of the different Machine Learning and Deep Learning models applied to the following dataset: Breast Cancer**"
      ]
    },
    {
      "cell_type": "markdown",
      "source": [
        "The main objective of this project is to carry out the development and comparison of the two most used models with the best results obtained in the Kaggle competitions: XGBoost and Deep Learning We will also present other Machine Learning models, in order to have a measure of the degree of accuracy and adjustment of the dataset to the different applied techniques. In this way, we can see, on the one hand, that the techniques most used in competition have a reason, and on the other, any observer, analyst and decision maker can take a real dimension of the results obtained and thus draw their own conclusions. For this purpose, the chosen dataset is the scikit-learn Breast Cancer "
      ],
      "metadata": {
        "id": "gywBxbGFxiJO"
      }
    },
    {
      "cell_type": "markdown",
      "metadata": {
        "id": "DN04rp5d6rco"
      },
      "source": [
        "## Machine Learning models"
      ]
    },
    {
      "cell_type": "markdown",
      "metadata": {
        "id": "ynYTPTb48Awk"
      },
      "source": [
        "### Applied with scikit-learn dataset: breast_cancer\n",
        "url: https://scikit-learn.org/stable/modules/generated/sklearn.datasets.load_breast_cancer.html"
      ]
    },
    {
      "cell_type": "code",
      "metadata": {
        "id": "JYbjhksy9CJj"
      },
      "source": [
        "import pandas as pd\n",
        "import numpy as np\n",
        "from sklearn.model_selection import train_test_split, cross_val_score\n",
        "from sklearn.metrics import accuracy_score\n",
        "import matplotlib.pyplot as plt\n",
        "\n",
        "import time"
      ],
      "execution_count": null,
      "outputs": []
    },
    {
      "cell_type": "code",
      "metadata": {
        "id": "__MwACSfhyqt"
      },
      "source": [
        "from sklearn.datasets import load_breast_cancer"
      ],
      "execution_count": null,
      "outputs": []
    },
    {
      "cell_type": "code",
      "metadata": {
        "id": "3n7to6cvh3-S"
      },
      "source": [
        "X, y = load_breast_cancer(return_X_y=True)"
      ],
      "execution_count": null,
      "outputs": []
    },
    {
      "cell_type": "code",
      "metadata": {
        "id": "rB4kkBzYh7Vb"
      },
      "source": [
        "X_train, X_test, y_train, y_test = train_test_split(X, y, test_size = 0.2, random_state = 42)"
      ],
      "execution_count": null,
      "outputs": []
    },
    {
      "cell_type": "code",
      "metadata": {
        "id": "X6iyKX-6ihK9"
      },
      "source": [
        "accuracy_all = []\n",
        "cvs_all = []"
      ],
      "execution_count": null,
      "outputs": []
    },
    {
      "cell_type": "markdown",
      "metadata": {
        "id": "ugrycm7-l5u5"
      },
      "source": [
        "Stochastic Gradient Descent"
      ]
    },
    {
      "cell_type": "code",
      "metadata": {
        "id": "Z3rZ3ydyl7sk"
      },
      "source": [
        "from sklearn.linear_model import SGDClassifier\n",
        "\n",
        "start = time.time()\n",
        "\n",
        "clf = SGDClassifier()\n",
        "clf.fit(X_train, y_train)\n",
        "prediction = clf.predict(X_test)\n",
        "scores = cross_val_score(clf, X, y, cv=5)\n",
        "\n",
        "end = time.time()"
      ],
      "execution_count": null,
      "outputs": []
    },
    {
      "cell_type": "code",
      "metadata": {
        "colab": {
          "base_uri": "https://localhost:8080/"
        },
        "id": "i4WmQRcEmIHU",
        "outputId": "8c08d44d-6308-4cfe-c566-9b7d33c7e5f2"
      },
      "source": [
        "accuracy_all.append(accuracy_score(prediction, y_test))\n",
        "cvs_all.append(np.mean(scores))\n",
        "\n",
        "print(\"SGD Classifier Accuracy: {0:.2%}\".format(accuracy_score(prediction, y_test)))\n",
        "print(\"Cross validation score: {0:.2%} (+/- {1:.2%})\".format(np.mean(scores), np.std(scores)*2))\n",
        "print(\"Execution time: {0:.5} seconds \\n\".format(end-start))"
      ],
      "execution_count": null,
      "outputs": [
        {
          "output_type": "stream",
          "name": "stdout",
          "text": [
            "SGD Classifier Accuracy: 94.74%\n",
            "Cross validation score: 91.56% (+/- 2.63%)\n",
            "Execution time: 0.023288 seconds \n",
            "\n"
          ]
        }
      ]
    },
    {
      "cell_type": "markdown",
      "metadata": {
        "id": "FnDdY31ZmYGy"
      },
      "source": [
        " Support Vector Machines"
      ]
    },
    {
      "cell_type": "code",
      "metadata": {
        "id": "flZ6I_i0mZRR"
      },
      "source": [
        "from sklearn.svm import SVC, NuSVC, LinearSVC\n",
        "\n",
        "start = time.time()\n",
        "\n",
        "clf = SVC()\n",
        "clf.fit(X_train, y_train)\n",
        "prediction = clf.predict(X_test)\n",
        "scores = cross_val_score(clf, X, y, cv=5)\n",
        "\n",
        "end = time.time()"
      ],
      "execution_count": null,
      "outputs": []
    },
    {
      "cell_type": "code",
      "metadata": {
        "colab": {
          "base_uri": "https://localhost:8080/"
        },
        "id": "29jVKgbYmdvV",
        "outputId": "2aae4919-9d03-40d6-9e44-6884ceb89326"
      },
      "source": [
        "accuracy_all.append(accuracy_score(prediction, y_test))\n",
        "cvs_all.append(np.mean(scores))\n",
        "\n",
        "print(\"SVC Accuracy: {0:.2%}\".format(accuracy_score(prediction, y_test)))\n",
        "print(\"Cross validation score: {0:.2%} (+/- {1:.2%})\".format(np.mean(scores), np.std(scores)*2))\n",
        "print(\"Execution time: {0:.5} seconds \\n\".format(end-start))"
      ],
      "execution_count": null,
      "outputs": [
        {
          "output_type": "stream",
          "name": "stdout",
          "text": [
            "SVC Accuracy: 94.74%\n",
            "Cross validation score: 91.22% (+/- 7.09%)\n",
            "Execution time: 0.058003 seconds \n",
            "\n"
          ]
        }
      ]
    },
    {
      "cell_type": "code",
      "metadata": {
        "colab": {
          "base_uri": "https://localhost:8080/"
        },
        "id": "Y16zFG5jmhQx",
        "outputId": "8dc4e17f-585c-43a4-d3e3-857a10fceb2a"
      },
      "source": [
        "start = time.time()\n",
        "\n",
        "clf = NuSVC()\n",
        "clf.fit(X_train, y_train)\n",
        "prediciton = clf.predict(X_test)\n",
        "scores = cross_val_score(clf, X, y, cv=5)\n",
        "\n",
        "end = time.time()\n",
        "\n",
        "accuracy_all.append(accuracy_score(prediction, y_test))\n",
        "cvs_all.append(np.mean(scores))\n",
        "\n",
        "print(\"NuSVC Accuracy: {0:.2%}\".format(accuracy_score(prediction, y_test)))\n",
        "print(\"Cross validation score: {0:.2%} (+/- {1:.2%})\".format(np.mean(scores), np.std(scores)*2))\n",
        "print(\"Execution time: {0:.5} seconds \\n\".format(end-start))"
      ],
      "execution_count": null,
      "outputs": [
        {
          "output_type": "stream",
          "name": "stdout",
          "text": [
            "NuSVC Accuracy: 94.74%\n",
            "Cross validation score: 87.88% (+/- 6.94%)\n",
            "Execution time: 0.10584 seconds \n",
            "\n"
          ]
        }
      ]
    },
    {
      "cell_type": "code",
      "metadata": {
        "colab": {
          "base_uri": "https://localhost:8080/"
        },
        "id": "POUqZYwCmzxI",
        "outputId": "14a78aec-a0ca-4988-b77f-c2d660a0aefe"
      },
      "source": [
        "start = time.time()\n",
        "\n",
        "clf = LinearSVC()\n",
        "clf.fit(X_train, y_train)\n",
        "prediction = clf.predict(X_test)\n",
        "scores = cross_val_score(clf, X, y, cv=5)\n",
        "\n",
        "end = time.time()\n",
        "\n",
        "accuracy_all.append(accuracy_score(prediction, y_test))\n",
        "cvs_all.append(np.mean(scores))\n",
        "\n",
        "print(\"LinearSVC Accuracy: {0:.2%}\".format(accuracy_score(prediction, y_test)))\n",
        "print(\"Cross validation score: {0:.2%} (+/- {1:.2%})\".format(np.mean(scores), np.std(scores)*2))\n",
        "print(\"Execution time: {0:.5} seconds \\n\".format(end-start))"
      ],
      "execution_count": null,
      "outputs": [
        {
          "output_type": "stream",
          "name": "stdout",
          "text": [
            "LinearSVC Accuracy: 90.35%\n",
            "Cross validation score: 88.94% (+/- 13.78%)\n",
            "Execution time: 0.19416 seconds \n",
            "\n"
          ]
        },
        {
          "output_type": "stream",
          "name": "stderr",
          "text": [
            "/usr/local/lib/python3.7/dist-packages/sklearn/svm/_base.py:1208: ConvergenceWarning: Liblinear failed to converge, increase the number of iterations.\n",
            "  ConvergenceWarning,\n",
            "/usr/local/lib/python3.7/dist-packages/sklearn/svm/_base.py:1208: ConvergenceWarning: Liblinear failed to converge, increase the number of iterations.\n",
            "  ConvergenceWarning,\n",
            "/usr/local/lib/python3.7/dist-packages/sklearn/svm/_base.py:1208: ConvergenceWarning: Liblinear failed to converge, increase the number of iterations.\n",
            "  ConvergenceWarning,\n",
            "/usr/local/lib/python3.7/dist-packages/sklearn/svm/_base.py:1208: ConvergenceWarning: Liblinear failed to converge, increase the number of iterations.\n",
            "  ConvergenceWarning,\n",
            "/usr/local/lib/python3.7/dist-packages/sklearn/svm/_base.py:1208: ConvergenceWarning: Liblinear failed to converge, increase the number of iterations.\n",
            "  ConvergenceWarning,\n",
            "/usr/local/lib/python3.7/dist-packages/sklearn/svm/_base.py:1208: ConvergenceWarning: Liblinear failed to converge, increase the number of iterations.\n",
            "  ConvergenceWarning,\n"
          ]
        }
      ]
    },
    {
      "cell_type": "markdown",
      "metadata": {
        "id": "DhrNZ7K0nC12"
      },
      "source": [
        "\n",
        "Nearest Neighbors"
      ]
    },
    {
      "cell_type": "code",
      "metadata": {
        "id": "whPBP5FrnFz7"
      },
      "source": [
        "from sklearn.neighbors import KNeighborsClassifier\n",
        "\n",
        "start = time.time()\n",
        "\n",
        "clf = KNeighborsClassifier()\n",
        "clf.fit(X_train, y_train)\n",
        "prediction = clf.predict(X_test)\n",
        "scores = cross_val_score(clf, X, y, cv=5)\n",
        "\n",
        "end = time.time()"
      ],
      "execution_count": null,
      "outputs": []
    },
    {
      "cell_type": "code",
      "metadata": {
        "colab": {
          "base_uri": "https://localhost:8080/"
        },
        "id": "SmNGSyhunMR3",
        "outputId": "fa46cd1c-8178-4e92-a2cd-0aa230de52cf"
      },
      "source": [
        "accuracy_all.append(accuracy_score(prediction, y_test))\n",
        "cvs_all.append(np.mean(scores))\n",
        "\n",
        "print(\"Accuracy: {0:.2%}\".format(accuracy_score(prediction, y_test)))\n",
        "print(\"Cross validation score: {0:.2%} (+/- {1:.2%})\".format(np.mean(scores), np.std(scores)*2))\n",
        "print(\"Execution time: {0:.5} seconds \\n\".format(end-start))"
      ],
      "execution_count": null,
      "outputs": [
        {
          "output_type": "stream",
          "name": "stdout",
          "text": [
            "Accuracy: 95.61%\n",
            "Cross validation score: 92.79% (+/- 4.35%)\n",
            "Execution time: 0.066044 seconds \n",
            "\n"
          ]
        }
      ]
    },
    {
      "cell_type": "markdown",
      "metadata": {
        "id": "q98woJBdnTGa"
      },
      "source": [
        "Naive Bayes"
      ]
    },
    {
      "cell_type": "code",
      "metadata": {
        "id": "Za1TGtkFnT2N"
      },
      "source": [
        "from sklearn.naive_bayes import GaussianNB\n",
        "\n",
        "start = time.time()\n",
        "\n",
        "clf = GaussianNB()\n",
        "clf.fit(X_train, y_train)\n",
        "prediction = clf.predict(X_test)\n",
        "scores = cross_val_score(clf, X, y, cv=5)\n",
        "\n",
        "end = time.time()"
      ],
      "execution_count": null,
      "outputs": []
    },
    {
      "cell_type": "code",
      "metadata": {
        "colab": {
          "base_uri": "https://localhost:8080/"
        },
        "id": "XnCdq1W_nX99",
        "outputId": "da8f04be-ac34-44d5-8979-acb8d5a49728"
      },
      "source": [
        "accuracy_all.append(accuracy_score(prediction, y_test))\n",
        "cvs_all.append(np.mean(scores))\n",
        "\n",
        "print(\"Accuracy: {0:.2%}\".format(accuracy_score(prediction, y_test)))\n",
        "print(\"Cross validation score: {0:.2%} (+/- {1:.2%})\".format(np.mean(scores), np.std(scores)*2))\n",
        "print(\"Execution time: {0:.5} seconds \\n\".format(end-start))"
      ],
      "execution_count": null,
      "outputs": [
        {
          "output_type": "stream",
          "name": "stdout",
          "text": [
            "Accuracy: 97.37%\n",
            "Cross validation score: 93.85% (+/- 2.92%)\n",
            "Execution time: 0.033069 seconds \n",
            "\n"
          ]
        }
      ]
    },
    {
      "cell_type": "markdown",
      "metadata": {
        "id": "VfPRIX0jnkP0"
      },
      "source": [
        "RandomForest "
      ]
    },
    {
      "cell_type": "code",
      "metadata": {
        "id": "jyHDiPTMnky7"
      },
      "source": [
        "from sklearn.ensemble import RandomForestClassifier\n"
      ],
      "execution_count": null,
      "outputs": []
    },
    {
      "cell_type": "code",
      "metadata": {
        "colab": {
          "base_uri": "https://localhost:8080/"
        },
        "id": "DnxsXwt1n1v-",
        "outputId": "416af5ac-e792-429c-c6d8-a96dc49d9f6e"
      },
      "source": [
        "start = time.time()\n",
        "\n",
        "clf = RandomForestClassifier()\n",
        "clf.fit(X_train, y_train)\n",
        "prediction = clf.predict(X_test)\n",
        "scores = cross_val_score(clf, X, y, cv=5)\n",
        "\n",
        "end = time.time()\n",
        "\n",
        "accuracy_all.append(accuracy_score(prediction, y_test))\n",
        "cvs_all.append(np.mean(scores))\n",
        "\n",
        "print(\"Random Forest Accuracy: {0:.2%}\".format(accuracy_score(prediction, y_test)))\n",
        "print(\"Cross validation score: {0:.2%} (+/- {1:.2%})\".format(np.mean(scores), np.std(scores)*2))\n",
        "print(\"Execution time: {0:.5} seconds \\n\".format(end-start))"
      ],
      "execution_count": null,
      "outputs": [
        {
          "output_type": "stream",
          "name": "stdout",
          "text": [
            "Random Forest Accuracy: 96.49%\n",
            "Cross validation score: 96.14% (+/- 3.93%)\n",
            "Execution time: 1.438 seconds \n",
            "\n"
          ]
        }
      ]
    },
    {
      "cell_type": "code",
      "metadata": {
        "id": "oz_S7H9dn-PG"
      },
      "source": [
        "from sklearn.ensemble import ExtraTreesClassifier\n",
        "from sklearn.tree import DecisionTreeClassifier"
      ],
      "execution_count": null,
      "outputs": []
    },
    {
      "cell_type": "code",
      "metadata": {
        "colab": {
          "base_uri": "https://localhost:8080/"
        },
        "id": "GNXPmKiRKo-E",
        "outputId": "e57ac9d1-1986-40f8-a147-15524b12db8f"
      },
      "source": [
        "start = time.time()\n",
        "\n",
        "clf = RandomForestClassifier()\n",
        "clf.fit(X_train, y_train)\n",
        "prediction = clf.predict(X_test)\n",
        "scores = cross_val_score(clf, X, y, cv=5)\n",
        "\n",
        "end = time.time()\n",
        "\n",
        "accuracy_all.append(accuracy_score(prediction, y_test))\n",
        "cvs_all.append(np.mean(scores))\n",
        "\n",
        "print(\"Random Forest Accuracy: {0:.2%}\".format(accuracy_score(prediction, y_test)))\n",
        "print(\"Cross validation score: {0:.2%} (+/- {1:.2%})\".format(np.mean(scores), np.std(scores)*2))\n",
        "print(\"Execution time: {0:.5} seconds \\n\".format(end-start))"
      ],
      "execution_count": null,
      "outputs": [
        {
          "output_type": "stream",
          "name": "stdout",
          "text": [
            "Random Forest Accuracy: 96.49%\n",
            "Cross validation score: 96.31% (+/- 4.35%)\n",
            "Execution time: 1.4349 seconds \n",
            "\n"
          ]
        }
      ]
    },
    {
      "cell_type": "code",
      "metadata": {
        "colab": {
          "base_uri": "https://localhost:8080/"
        },
        "id": "7g8hKWGQKrik",
        "outputId": "5873200a-f939-4766-8dbc-9cec05867757"
      },
      "source": [
        "start = time.time()\n",
        "\n",
        "clf = DecisionTreeClassifier()\n",
        "clf.fit(X_train, y_train)\n",
        "prediction = clf.predict(X_test)\n",
        "scores = cross_val_score(clf, X, y, cv=5)\n",
        "\n",
        "end = time.time()\n",
        "\n",
        "accuracy_all.append(accuracy_score(prediction, y_test))\n",
        "cvs_all.append(np.mean(scores))\n",
        "\n",
        "print(\"Dedicion Tree Accuracy: {0:.2%}\".format(accuracy_score(prediction, y_test)))\n",
        "print(\"Cross validation score: {0:.2%} (+/- {1:.2%})\".format(np.mean(scores), np.std(scores)*2))\n",
        "print(\"Execution time: {0:.5} seconds \\n\".format(end-start))"
      ],
      "execution_count": null,
      "outputs": [
        {
          "output_type": "stream",
          "name": "stdout",
          "text": [
            "Dedicion Tree Accuracy: 92.98%\n",
            "Cross validation score: 92.09% (+/- 3.71%)\n",
            "Execution time: 0.049712 seconds \n",
            "\n"
          ]
        }
      ]
    },
    {
      "cell_type": "code",
      "metadata": {
        "colab": {
          "base_uri": "https://localhost:8080/"
        },
        "id": "3bZUIESIKt1D",
        "outputId": "4158b1ae-7b6b-4165-df5f-3b2083fb7929"
      },
      "source": [
        "start = time.time()\n",
        "\n",
        "clf = ExtraTreesClassifier()\n",
        "clf.fit(X_train, y_train)\n",
        "prediction = clf.predict(X_test)\n",
        "scores = cross_val_score(clf, X, y, cv=5)\n",
        "\n",
        "end = time.time()\n",
        "\n",
        "accuracy_all.append(accuracy_score(prediction, y_test))\n",
        "cvs_all.append(np.mean(scores))\n",
        "\n",
        "print(\"Extra Trees Accuracy: {0:.2%}\".format(accuracy_score(prediction, y_test)))\n",
        "print(\"Cross validation score: {0:.2%} (+/- {1:.2%})\".format(np.mean(scores), np.std(scores)*2))\n",
        "print(\"Execution time: {0:.5} seconds \\n\".format(end-start))\n",
        "print(clf.feature_importances_)"
      ],
      "execution_count": null,
      "outputs": [
        {
          "output_type": "stream",
          "name": "stdout",
          "text": [
            "Extra Trees Accuracy: 97.37%\n",
            "Cross validation score: 96.49% (+/- 2.47%)\n",
            "Execution time: 0.88988 seconds \n",
            "\n",
            "[0.05517586 0.02302085 0.05387634 0.04724385 0.01208982 0.01655941\n",
            " 0.05649118 0.08045634 0.00572008 0.00866213 0.01838509 0.00667358\n",
            " 0.01582741 0.03618244 0.00582518 0.0081012  0.00911602 0.00816159\n",
            " 0.00606508 0.00725666 0.09453857 0.03318965 0.06480345 0.08303612\n",
            " 0.02226102 0.0234169  0.05435341 0.11351779 0.01930441 0.0106886 ]\n"
          ]
        }
      ]
    },
    {
      "cell_type": "code",
      "metadata": {
        "colab": {
          "base_uri": "https://localhost:8080/",
          "height": 265
        },
        "id": "dBFrq-w8Kv44",
        "outputId": "0e1834c7-7825-45d9-abc0-599b815e8ddd"
      },
      "source": [
        "data = load_breast_cancer()\n",
        "feat_importances = pd.Series(clf.feature_importances_, index=data.feature_names)\n",
        "feat_importances.nlargest(10).plot(kind='barh')\n",
        "plt.show()"
      ],
      "execution_count": null,
      "outputs": [
        {
          "output_type": "display_data",
          "data": {
            "image/png": "[encoded data removed]",
            "text/plain": [
              "<Figure size 432x288 with 1 Axes>"
            ]
          },
          "metadata": {
            "needs_background": "light"
          }
        }
      ]
    },
    {
      "cell_type": "markdown",
      "metadata": {
        "id": "ME0FE3FooXbn"
      },
      "source": [
        "## XGBoost"
      ]
    },
    {
      "cell_type": "code",
      "metadata": {
        "id": "N9GrSxI1rZjL"
      },
      "source": [
        ""
      ],
      "execution_count": null,
      "outputs": []
    },
    {
      "cell_type": "code",
      "metadata": {
        "id": "wagt3qytD2RP"
      },
      "source": [
        "import pandas as pd\n",
        "import numpy as np\n",
        "from sklearn.model_selection import cross_val_score\n",
        "from xgboost import XGBClassifier, XGBRFClassifier\n",
        "from sklearn.ensemble import RandomForestClassifier, StackingClassifier\n",
        "from sklearn.linear_model import LogisticRegression\n",
        "from sklearn.model_selection import train_test_split, StratifiedKFold\n",
        "from sklearn.metrics import accuracy_score\n",
        "from sklearn.ensemble import VotingClassifier\n",
        "# Silence warnings\n",
        "import warnings\n",
        "warnings.filterwarnings('ignore')"
      ],
      "execution_count": null,
      "outputs": []
    },
    {
      "cell_type": "code",
      "metadata": {
        "id": "bX9ezfT97dS7"
      },
      "source": [
        "from sklearn.datasets import load_breast_cancer"
      ],
      "execution_count": null,
      "outputs": []
    },
    {
      "cell_type": "markdown",
      "metadata": {
        "id": "7Yf9Api37dS9"
      },
      "source": [
        "Assign the predictor columns to X and the target column to y by setting the\n",
        "return_X_y=True parameter"
      ]
    },
    {
      "cell_type": "code",
      "metadata": {
        "id": "Wj7Cm_0A7dTD"
      },
      "source": [
        "X, y = load_breast_cancer(return_X_y=True)"
      ],
      "execution_count": null,
      "outputs": []
    },
    {
      "cell_type": "markdown",
      "metadata": {
        "id": "Pt9oSKCF7dTE"
      },
      "source": [
        "Prepare 5-fold cross-validation using StratifiedKFold for consistency"
      ]
    },
    {
      "cell_type": "code",
      "metadata": {
        "id": "nINdEqsB7dTF"
      },
      "source": [
        "kfold = StratifiedKFold(n_splits=5)"
      ],
      "execution_count": null,
      "outputs": []
    },
    {
      "cell_type": "markdown",
      "metadata": {
        "id": "WE9oWbNX7dTG"
      },
      "source": [
        "Build a simple classification function that takes a model as input and\n",
        "returns the mean cross-validation score as output"
      ]
    },
    {
      "cell_type": "code",
      "metadata": {
        "id": "JpKi53ZO7dTH"
      },
      "source": [
        "def classification_model(model):\n",
        "    scores = cross_val_score(model, X, y,\n",
        "    cv=kfold)\n",
        "    return scores.mean()"
      ],
      "execution_count": null,
      "outputs": []
    },
    {
      "cell_type": "markdown",
      "metadata": {
        "id": "dbtFLORL7dTJ"
      },
      "source": [
        "Get the scores of several default classifiers, including XGBoost, along with\n",
        "its alternative base learners, a random forest, and logistic regression"
      ]
    },
    {
      "cell_type": "code",
      "metadata": {
        "id": "UqiiS6TL7dTL",
        "colab": {
          "base_uri": "https://localhost:8080/"
        },
        "outputId": "777aa414-b80c-47ea-806d-f40c3dac367a"
      },
      "source": [
        "# a) Score with XGBoost\n",
        "\n",
        "classification_model(XGBClassifier())"
      ],
      "execution_count": null,
      "outputs": [
        {
          "output_type": "execute_result",
          "data": {
            "text/plain": [
              "0.9648657040832168"
            ]
          },
          "metadata": {},
          "execution_count": 29
        }
      ]
    },
    {
      "cell_type": "code",
      "metadata": {
        "id": "IkRBidS17dTN",
        "colab": {
          "base_uri": "https://localhost:8080/"
        },
        "outputId": "cbc036ab-604a-4952-d001-f3a042205759"
      },
      "source": [
        "# b) Score with gblinear\n",
        "\n",
        "classification_model(XGBClassifier(booster='gblinear'))"
      ],
      "execution_count": null,
      "outputs": [
        {
          "output_type": "execute_result",
          "data": {
            "text/plain": [
              "0.8910572892408011"
            ]
          },
          "metadata": {},
          "execution_count": 30
        }
      ]
    },
    {
      "cell_type": "code",
      "metadata": {
        "id": "4YSoVuCK7dTP",
        "colab": {
          "base_uri": "https://localhost:8080/"
        },
        "outputId": "e9dc1667-169a-4c0a-95d8-28469b48c76c"
      },
      "source": [
        "# c) Score with dart\n",
        "\n",
        "classification_model(XGBClassifier(booster='dart', one_drop=True))"
      ],
      "execution_count": null,
      "outputs": [
        {
          "output_type": "execute_result",
          "data": {
            "text/plain": [
              "0.9613569321533924"
            ]
          },
          "metadata": {},
          "execution_count": 31
        }
      ]
    },
    {
      "cell_type": "markdown",
      "metadata": {
        "id": "uKDByaH67dTQ"
      },
      "source": [
        "We set one_drop=True to ensure that trees\n",
        "are actually dropped"
      ]
    },
    {
      "cell_type": "code",
      "metadata": {
        "id": "MfNH_jg37dTR",
        "colab": {
          "base_uri": "https://localhost:8080/"
        },
        "outputId": "16c9026b-9ee8-409f-ef9b-efcb2bea6e71"
      },
      "source": [
        "# d) Score with RandomForestClassifier\n",
        "\n",
        "classification_model(RandomForestClassifier(random_state=2))"
      ],
      "execution_count": null,
      "outputs": [
        {
          "output_type": "execute_result",
          "data": {
            "text/plain": [
              "0.9666356155876418"
            ]
          },
          "metadata": {},
          "execution_count": 32
        }
      ]
    },
    {
      "cell_type": "code",
      "metadata": {
        "id": "xemuz_ko7dTS",
        "colab": {
          "base_uri": "https://localhost:8080/"
        },
        "outputId": "d88d70b6-e677-46cc-9f96-6aef51cdfe42"
      },
      "source": [
        "# e) Score with LogisticRegression\n",
        "\n",
        "classification_model(LogisticRegression(max_iter=10000))"
      ],
      "execution_count": null,
      "outputs": [
        {
          "output_type": "execute_result",
          "data": {
            "text/plain": [
              "0.9507995652848935"
            ]
          },
          "metadata": {},
          "execution_count": 33
        }
      ]
    },
    {
      "cell_type": "code",
      "metadata": {
        "id": "7egbvHmpEDNj"
      },
      "source": [
        ""
      ],
      "execution_count": null,
      "outputs": []
    },
    {
      "cell_type": "markdown",
      "metadata": {
        "id": "V0IvKU8M7dTU"
      },
      "source": [
        "## Correlation"
      ]
    },
    {
      "cell_type": "markdown",
      "metadata": {
        "id": "Joh6L2zz7dTU"
      },
      "source": [
        "It's desirable, to have a diversity of models that score well but give different predictions. If most models give the same predictions, the correlation is high, and there is little value in adding the new model to the ensemble. Finding differences in predictions where a strong model may be wrong gives the ensemble the chance to produce better results. Predictions will be different when the models are non-correlated. To compute correlations between machine learning models, we first need data points to compare. The different data points that machine learning models produce are their predictions. After obtaining predictions, we concatenate them into a\n",
        "DataFrame, and then apply the .corr method to obtain all correlations at once."
      ]
    },
    {
      "cell_type": "markdown",
      "metadata": {
        "id": "acFhQY7o7dTW"
      },
      "source": [
        "### Here are the steps to find correlations between machine learning models"
      ]
    },
    {
      "cell_type": "markdown",
      "metadata": {
        "id": "MsM69ErD7dTX"
      },
      "source": [
        "1. Define a function that returns predictions for each machine learning model"
      ]
    },
    {
      "cell_type": "code",
      "metadata": {
        "id": "tYDImnLk7dTX"
      },
      "source": [
        "def y_pred(model):\n",
        "    model.fit(X_train, y_train)\n",
        "    y_pred = model.predict(X_test)\n",
        "    score = accuracy_score(y_pred, y_test)\n",
        "    print(score)\n",
        "    return y_pred"
      ],
      "execution_count": null,
      "outputs": []
    },
    {
      "cell_type": "markdown",
      "metadata": {
        "id": "TtyXWN1q7dTY"
      },
      "source": [
        "2. Prepare the data for one-fold predictions using train_test_split"
      ]
    },
    {
      "cell_type": "code",
      "metadata": {
        "id": "hHKPTzt_7dTY"
      },
      "source": [
        "X_train, X_test, y_train, y_test = train_test_split(X, y, random_state=2)"
      ],
      "execution_count": null,
      "outputs": []
    },
    {
      "cell_type": "markdown",
      "metadata": {
        "id": "FU4yO3Kq7dTY"
      },
      "source": [
        "3. Obtain the predictions of all classifier candidates using the previously defined function"
      ]
    },
    {
      "cell_type": "code",
      "metadata": {
        "id": "JI3_xhOh7dTY",
        "colab": {
          "base_uri": "https://localhost:8080/"
        },
        "outputId": "1884cf9b-cf84-49df-b0e7-b170e0f55a71"
      },
      "source": [
        "# a) XGBClassifier uses the following\n",
        "\n",
        "y_pred_gbtree = y_pred(XGBClassifier())"
      ],
      "execution_count": null,
      "outputs": [
        {
          "output_type": "stream",
          "name": "stdout",
          "text": [
            "0.958041958041958\n"
          ]
        }
      ]
    },
    {
      "cell_type": "code",
      "metadata": {
        "id": "pky_Qv7w7dTZ",
        "colab": {
          "base_uri": "https://localhost:8080/"
        },
        "outputId": "291ab429-476e-4bde-d6ce-5ae826566a3b"
      },
      "source": [
        "# b) XGBClassifier with dart uses the following\n",
        "\n",
        "y_pred_dart = y_pred(XGBClassifier(booster='dart', one_drop=True))"
      ],
      "execution_count": null,
      "outputs": [
        {
          "output_type": "stream",
          "name": "stdout",
          "text": [
            "0.9440559440559441\n"
          ]
        }
      ]
    },
    {
      "cell_type": "code",
      "metadata": {
        "id": "zt2-L_en7dTa",
        "colab": {
          "base_uri": "https://localhost:8080/"
        },
        "outputId": "cb6a4a5f-4e52-4eb0-ba5f-0dbd342d4403"
      },
      "source": [
        "# c) RandomForestClassifier uses the following\n",
        "\n",
        "y_pred_forest = y_pred(RandomForestClassifier())"
      ],
      "execution_count": null,
      "outputs": [
        {
          "output_type": "stream",
          "name": "stdout",
          "text": [
            "0.9440559440559441\n"
          ]
        }
      ]
    },
    {
      "cell_type": "code",
      "metadata": {
        "id": "CKUqvdCy7dTb",
        "colab": {
          "base_uri": "https://localhost:8080/"
        },
        "outputId": "0d842bf8-13bf-4bdd-a081-7adc462c8d7b"
      },
      "source": [
        "# d) LogisticRegression uses the following\n",
        "\n",
        "y_pred_logistic = y_pred(LogisticRegression(max_iter=10000))"
      ],
      "execution_count": null,
      "outputs": [
        {
          "output_type": "stream",
          "name": "stdout",
          "text": [
            "0.9370629370629371\n"
          ]
        }
      ]
    },
    {
      "cell_type": "markdown",
      "metadata": {
        "id": "kQpofgP37dTc"
      },
      "source": [
        "e)Applying XGBoost hyperparameter fine-tuning \n",
        "\n",
        "\n"
      ]
    },
    {
      "cell_type": "code",
      "metadata": {
        "id": "LIrHPhIwEF6e"
      },
      "source": [
        "from sklearn.model_selection import GridSearchCV, RandomizedSearchCV"
      ],
      "execution_count": null,
      "outputs": []
    },
    {
      "cell_type": "code",
      "metadata": {
        "id": "h_nvIEg1X770"
      },
      "source": [
        "def grid_search(params, random=False):\n",
        "  xgb = XGBClassifier(booster='gbtree', objective='binary:logistic', random_state=2)\n",
        "  if random:\n",
        "    grid = RandomizedSearchCV(xgb, params, cv=kfold, n_iter=20, n_jobs=-1)\n",
        "  else:\n",
        "    grid = GridSearchCV(xgb, params, cv=kfold, n_jobs=-1)\n",
        "\n",
        "  grid.fit(X, y)\n",
        "\n",
        "  best_params = grid.best_params_\n",
        "  print(\"Best params:\", best_params)\n",
        "\n",
        "  best_score = grid.best_score_\n",
        "  print(\"Training score:{:.3f}\".format(best_score))"
      ],
      "execution_count": null,
      "outputs": []
    },
    {
      "cell_type": "markdown",
      "metadata": {
        "id": "d8kVarbKa4ON"
      },
      "source": [
        "n_estimators"
      ]
    },
    {
      "cell_type": "code",
      "metadata": {
        "colab": {
          "base_uri": "https://localhost:8080/"
        },
        "id": "_5ks0Td6X-B4",
        "outputId": "bcd14c96-6e03-453c-fbe7-5edc5e1166fb"
      },
      "source": [
        "grid_search(params={'n_estimators':[100, 150, 200, 400, 800]})"
      ],
      "execution_count": null,
      "outputs": [
        {
          "output_type": "stream",
          "name": "stdout",
          "text": [
            "Best params: {'n_estimators': 800}\n",
            "Training score:0.975\n"
          ]
        }
      ]
    },
    {
      "cell_type": "code",
      "metadata": {
        "colab": {
          "base_uri": "https://localhost:8080/"
        },
        "id": "vxkykSEPYBtc",
        "outputId": "37659179-6d98-47af-f781-3835ee9abea3"
      },
      "source": [
        "grid_search(params={'max_depth':[1, 2, 3, 4, 5, 6, 7,\n",
        "8], 'n_estimators':[800]})"
      ],
      "execution_count": null,
      "outputs": [
        {
          "output_type": "stream",
          "name": "stdout",
          "text": [
            "Best params: {'max_depth': 4, 'n_estimators': 800}\n",
            "Training score:0.977\n"
          ]
        }
      ]
    },
    {
      "cell_type": "code",
      "metadata": {
        "colab": {
          "base_uri": "https://localhost:8080/"
        },
        "id": "t6NdSDThb-IC",
        "outputId": "0f300846-ed3e-42eb-8bc2-03557f370e08"
      },
      "source": [
        "grid_search(params={'learning_rate':[0.01, 0.05, 0.1,\n",
        "0.2, 0.3, 0.4, 0.5], 'max_depth':[4], 'n_estimators':\n",
        "[800]})"
      ],
      "execution_count": null,
      "outputs": [
        {
          "output_type": "stream",
          "name": "stdout",
          "text": [
            "Best params: {'learning_rate': 0.1, 'max_depth': 4, 'n_estimators': 800}\n",
            "Training score:0.977\n"
          ]
        }
      ]
    },
    {
      "cell_type": "code",
      "metadata": {
        "colab": {
          "base_uri": "https://localhost:8080/"
        },
        "id": "3YGS4mRdcSoS",
        "outputId": "1b8718e0-fa80-4eb8-9c2b-b298c8ee157f"
      },
      "source": [
        "grid_search(params={'min_child_weight':[1, 2, 3, 4,\n",
        "5], 'max_depth':[4], 'n_estimators':[800]})"
      ],
      "execution_count": null,
      "outputs": [
        {
          "output_type": "stream",
          "name": "stdout",
          "text": [
            "Best params: {'max_depth': 4, 'min_child_weight': 1, 'n_estimators': 800}\n",
            "Training score:0.977\n"
          ]
        }
      ]
    },
    {
      "cell_type": "code",
      "metadata": {
        "colab": {
          "base_uri": "https://localhost:8080/"
        },
        "id": "eb5f3XemcdKU",
        "outputId": "1d852ac7-5dd2-4761-8155-da3bfd746763"
      },
      "source": [
        "grid_search(params={'subsample':[0.5, 0.6, 0.7, 0.8,\n",
        "0.9, 1], 'max_depth':[4], 'n_estimators':[800]})"
      ],
      "execution_count": null,
      "outputs": [
        {
          "output_type": "stream",
          "name": "stdout",
          "text": [
            "Best params: {'max_depth': 4, 'n_estimators': 800, 'subsample': 1}\n",
            "Training score:0.977\n"
          ]
        }
      ]
    },
    {
      "cell_type": "code",
      "metadata": {
        "colab": {
          "base_uri": "https://localhost:8080/"
        },
        "id": "hTU7L1jVcl0v",
        "outputId": "86c11725-3b5a-407c-8f0d-0993fcb38655"
      },
      "source": [
        "grid_search(params={'subsample':[1],\n",
        "'min_child_weight':[1],\n",
        "'learning_rate':[0.1],\n",
        "'max_depth':[4],\n",
        "'n_estimators':[800]})"
      ],
      "execution_count": null,
      "outputs": [
        {
          "output_type": "stream",
          "name": "stdout",
          "text": [
            "Best params: {'learning_rate': 0.1, 'max_depth': 4, 'min_child_weight': 1, 'n_estimators': 800, 'subsample': 1}\n",
            "Training score:0.977\n"
          ]
        }
      ]
    },
    {
      "cell_type": "code",
      "metadata": {
        "colab": {
          "base_uri": "https://localhost:8080/"
        },
        "id": "3DrVGx6ldLvd",
        "outputId": "c6e3f9c3-9635-4a00-9635-6d0585c73c65"
      },
      "source": [
        "grid_search(params={'colsample_bytree':[0.5, 0.6, 0.7,\n",
        "0.8, 0.9, 1], 'max_depth':[4], 'n_estimators':[800], 'min_child_weight':[1], 'subsample':[1], 'learning_rate':[0.1]})"
      ],
      "execution_count": null,
      "outputs": [
        {
          "output_type": "stream",
          "name": "stdout",
          "text": [
            "Best params: {'colsample_bytree': 1, 'learning_rate': 0.1, 'max_depth': 4, 'min_child_weight': 1, 'n_estimators': 800, 'subsample': 1}\n",
            "Training score:0.977\n"
          ]
        }
      ]
    },
    {
      "cell_type": "code",
      "metadata": {
        "colab": {
          "base_uri": "https://localhost:8080/"
        },
        "id": "UGL5vyJpduX0",
        "outputId": "a154e69b-0aaf-4e4e-b375-a38b69559b34"
      },
      "source": [
        "grid_search(params={'colsample_bylevel':[0.5, 0.6, 0.7,\n",
        "0.8, 0.9, 1], 'max_depth':[4], 'n_estimators':[800], 'min_child_weight':[1], 'subsample':[1], 'learning_rate':[0.1]})"
      ],
      "execution_count": null,
      "outputs": [
        {
          "output_type": "stream",
          "name": "stdout",
          "text": [
            "Best params: {'colsample_bylevel': 1, 'learning_rate': 0.1, 'max_depth': 4, 'min_child_weight': 1, 'n_estimators': 800, 'subsample': 1}\n",
            "Training score:0.977\n"
          ]
        }
      ]
    },
    {
      "cell_type": "code",
      "metadata": {
        "colab": {
          "base_uri": "https://localhost:8080/"
        },
        "id": "-R8byT2Gd5nl",
        "outputId": "1d8f4dfe-6d64-4503-bd73-159f1d344200"
      },
      "source": [
        "grid_search(params={'colsample_bynode':[0.5, 0.6, 0.7,\n",
        "0.8, 0.9, 1], 'max_depth':[4], 'n_estimators':[800], 'min_child_weight':[1], 'subsample':[1], 'learning_rate':[0.1]})"
      ],
      "execution_count": null,
      "outputs": [
        {
          "output_type": "stream",
          "name": "stdout",
          "text": [
            "Best params: {'colsample_bynode': 1, 'learning_rate': 0.1, 'max_depth': 4, 'min_child_weight': 1, 'n_estimators': 800, 'subsample': 1}\n",
            "Training score:0.977\n"
          ]
        }
      ]
    },
    {
      "cell_type": "code",
      "metadata": {
        "colab": {
          "base_uri": "https://localhost:8080/"
        },
        "id": "GHyQ44qbeAag",
        "outputId": "d23d370d-40fc-4f30-9c4f-e8f62e390722"
      },
      "source": [
        "grid_search(params={'gamma':[0, 0.01, 0.05, 0.1, 0.5,\n",
        "1, 2, 3], 'colsample_bytree':[1], 'colsample_level':[1], 'colsample_bynode':[1], 'max_depth':[4], 'n_estimators':[800], 'min_child_weight':[1], 'subsample':[1], 'learning_rate':[0.1]})"
      ],
      "execution_count": null,
      "outputs": [
        {
          "output_type": "stream",
          "name": "stdout",
          "text": [
            "Best params: {'colsample_bynode': 1, 'colsample_bytree': 1, 'colsample_level': 1, 'gamma': 0, 'learning_rate': 0.1, 'max_depth': 4, 'min_child_weight': 1, 'n_estimators': 800, 'subsample': 1}\n",
            "Training score:0.977\n"
          ]
        }
      ]
    },
    {
      "cell_type": "markdown",
      "metadata": {
        "id": "fsOUBBU2ft-U"
      },
      "source": [
        "## The best result:"
      ]
    },
    {
      "cell_type": "code",
      "metadata": {
        "colab": {
          "base_uri": "https://localhost:8080/"
        },
        "id": "0SfY32DRf775",
        "outputId": "60d9c40f-1698-43a6-a4c6-831f480f0697"
      },
      "source": [
        "grid_search(params={'gamma':[0], 'colsample_bytree':[1], 'colsample_level':[1], 'colsample_bynode':[1], 'max_depth':[4], 'n_estimators':[800], 'min_child_weight':[1], 'subsample':[1], 'learning_rate':[0.1]})"
      ],
      "execution_count": null,
      "outputs": [
        {
          "output_type": "stream",
          "name": "stdout",
          "text": [
            "Best params: {'colsample_bynode': 1, 'colsample_bytree': 1, 'colsample_level': 1, 'gamma': 0, 'learning_rate': 0.1, 'max_depth': 4, 'min_child_weight': 1, 'n_estimators': 800, 'subsample': 1}\n",
            "Training score:0.977\n"
          ]
        }
      ]
    },
    {
      "cell_type": "markdown",
      "metadata": {
        "id": "e2SlXyNlMdmh"
      },
      "source": [
        "Tuned XGBClassifier uses the following"
      ]
    },
    {
      "cell_type": "code",
      "metadata": {
        "colab": {
          "base_uri": "https://localhost:8080/"
        },
        "id": "Cn2tiHryMstq",
        "outputId": "2d7e33f7-819c-4df6-ad78-e92f390d46a8"
      },
      "source": [
        "y_pred_xgb = y_pred(XGBClassifier(max_depth=4, n_estimators=800, learning_rate=0.1))"
      ],
      "execution_count": null,
      "outputs": [
        {
          "output_type": "stream",
          "name": "stdout",
          "text": [
            "0.965034965034965\n"
          ]
        }
      ]
    },
    {
      "cell_type": "markdown",
      "metadata": {
        "id": "5x0z8AFU7dTd"
      },
      "source": [
        "4. Concatenate the predictions into a new DataFrame using np.c (the c is short for concatenation)"
      ]
    },
    {
      "cell_type": "code",
      "metadata": {
        "id": "aqyTHtIb7dTe"
      },
      "source": [
        "df_pred = pd.DataFrame(data= np.c_[y_pred_gbtree, y_pred_dart, y_pred_forest, y_pred_logistic,\n",
        "                                    y_pred_xgb], columns=['gbtree', 'dart','forest', 'logistic', 'xgb'])"
      ],
      "execution_count": null,
      "outputs": []
    },
    {
      "cell_type": "markdown",
      "metadata": {
        "id": "_UpNlE3y7dTf"
      },
      "source": [
        "5. Run correlations on the DataFrame using the .corr() method"
      ]
    },
    {
      "cell_type": "code",
      "metadata": {
        "id": "8hFED4Ra7dTf",
        "colab": {
          "base_uri": "https://localhost:8080/",
          "height": 206
        },
        "outputId": "fa8b4b96-3f6f-4afb-9ca9-a7af4d25eac4"
      },
      "source": [
        "df_pred.corr()"
      ],
      "execution_count": null,
      "outputs": [
        {
          "output_type": "execute_result",
          "data": {
            "text/html": [
              "<div>\n",
              "<style scoped>\n",
              "    .dataframe tbody tr th:only-of-type {\n",
              "        vertical-align: middle;\n",
              "    }\n",
              "\n",
              "    .dataframe tbody tr th {\n",
              "        vertical-align: top;\n",
              "    }\n",
              "\n",
              "    .dataframe thead th {\n",
              "        text-align: right;\n",
              "    }\n",
              "</style>\n",
              "<table border=\"1\" class=\"dataframe\">\n",
              "  <thead>\n",
              "    <tr style=\"text-align: right;\">\n",
              "      <th></th>\n",
              "      <th>gbtree</th>\n",
              "      <th>dart</th>\n",
              "      <th>forest</th>\n",
              "      <th>logistic</th>\n",
              "      <th>xgb</th>\n",
              "    </tr>\n",
              "  </thead>\n",
              "  <tbody>\n",
              "    <tr>\n",
              "      <th>gbtree</th>\n",
              "      <td>1.000000</td>\n",
              "      <td>0.970994</td>\n",
              "      <td>0.971247</td>\n",
              "      <td>0.898295</td>\n",
              "      <td>0.985561</td>\n",
              "    </tr>\n",
              "    <tr>\n",
              "      <th>dart</th>\n",
              "      <td>0.970994</td>\n",
              "      <td>1.000000</td>\n",
              "      <td>0.971247</td>\n",
              "      <td>0.898295</td>\n",
              "      <td>0.956473</td>\n",
              "    </tr>\n",
              "    <tr>\n",
              "      <th>forest</th>\n",
              "      <td>0.971247</td>\n",
              "      <td>0.971247</td>\n",
              "      <td>1.000000</td>\n",
              "      <td>0.926953</td>\n",
              "      <td>0.956215</td>\n",
              "    </tr>\n",
              "    <tr>\n",
              "      <th>logistic</th>\n",
              "      <td>0.898295</td>\n",
              "      <td>0.898295</td>\n",
              "      <td>0.926953</td>\n",
              "      <td>1.000000</td>\n",
              "      <td>0.912485</td>\n",
              "    </tr>\n",
              "    <tr>\n",
              "      <th>xgb</th>\n",
              "      <td>0.985561</td>\n",
              "      <td>0.956473</td>\n",
              "      <td>0.956215</td>\n",
              "      <td>0.912485</td>\n",
              "      <td>1.000000</td>\n",
              "    </tr>\n",
              "  </tbody>\n",
              "</table>\n",
              "</div>"
            ],
            "text/plain": [
              "            gbtree      dart    forest  logistic       xgb\n",
              "gbtree    1.000000  0.970994  0.971247  0.898295  0.985561\n",
              "dart      0.970994  1.000000  0.971247  0.898295  0.956473\n",
              "forest    0.971247  0.971247  1.000000  0.926953  0.956215\n",
              "logistic  0.898295  0.898295  0.926953  1.000000  0.912485\n",
              "xgb       0.985561  0.956473  0.956215  0.912485  1.000000"
            ]
          },
          "metadata": {},
          "execution_count": 55
        }
      ]
    },
    {
      "cell_type": "code",
      "metadata": {
        "id": "3xHcv_7qvput"
      },
      "source": [
        ""
      ],
      "execution_count": null,
      "outputs": []
    },
    {
      "cell_type": "markdown",
      "metadata": {
        "id": "OUI5OiC37dTl"
      },
      "source": [
        "There is no clear cut-off to obtain a non-correlated threshold. It ultimately depends\n",
        "on the values of correlation and the number of models to choose from. For this\n",
        "example, we could pick the next two least correlated models with our best model,\n",
        "xgb, which are the random forest and logistic regression. we will combine them into a single\n",
        "ensemble using the VotingClassifier ensemble."
      ]
    },
    {
      "cell_type": "markdown",
      "metadata": {
        "id": "6ffjjzm-7dTn"
      },
      "source": [
        "## The VotingClassifier ensemble"
      ]
    },
    {
      "cell_type": "markdown",
      "metadata": {
        "id": "XiqW8enw7dTo"
      },
      "source": [
        "Scikit-learn's VotingClassifier ensemble is designed to combine multiple classification models and select the output for each prediction using majority rules. Note that scikit-learn also comes with VotingRegressor, which combines multiple regression models by taking the average of each one.\n",
        "\n",
        "Here are the steps to create an ensemble in scikit-learn:\n"
      ]
    },
    {
      "cell_type": "code",
      "metadata": {
        "id": "GlxfXww9sNyb"
      },
      "source": [
        "from xgboost import XGBClassifier, XGBRFClassifier\n",
        "from sklearn.ensemble import RandomForestClassifier, StackingClassifier\n",
        "from sklearn.linear_model import LogisticRegression\n",
        "from sklearn.metrics import accuracy_score\n",
        "from sklearn.ensemble import VotingClassifier"
      ],
      "execution_count": null,
      "outputs": []
    },
    {
      "cell_type": "code",
      "metadata": {
        "id": "1b4N6JvX7dTo"
      },
      "source": [
        "#1. Initialize an empty list:\n",
        "\n",
        "estimators = []"
      ],
      "execution_count": null,
      "outputs": []
    },
    {
      "cell_type": "code",
      "metadata": {
        "id": "vXGWx0Ue7dTo"
      },
      "source": [
        "#2. Initialize the first model:\n",
        "\n",
        "logistic_model = LogisticRegression(max_iter=10000)"
      ],
      "execution_count": null,
      "outputs": []
    },
    {
      "cell_type": "code",
      "metadata": {
        "id": "u5tCiJA37dTp"
      },
      "source": [
        "#3. Append the model to the list as a tuple in the form (model_name, model):\n",
        "\n",
        "estimators.append(('logistic', logistic_model))"
      ],
      "execution_count": null,
      "outputs": []
    },
    {
      "cell_type": "code",
      "metadata": {
        "id": "EbEnLvto7dTp"
      },
      "source": [
        "#4. Repeat steps 2 and 3 as many times as desired:\n",
        "\n",
        "xgb_model = XGBClassifier(max_depth=4, n_estimators=800, learning_rate=0.1)\n",
        "\n",
        "estimators.append(('xgb', xgb_model))\n",
        "\n",
        "rf_model = RandomForestClassifier(random_state=2)\n",
        "\n",
        "estimators.append(('rf', rf_model))"
      ],
      "execution_count": null,
      "outputs": []
    },
    {
      "cell_type": "code",
      "metadata": {
        "id": "TAOo-HlV7dTq"
      },
      "source": [
        "#5. Initialize VotingClassifier (or VotingRegressor) using the list of models as input:\n",
        "\n",
        "ensemble = VotingClassifier(estimators)"
      ],
      "execution_count": null,
      "outputs": []
    },
    {
      "cell_type": "code",
      "metadata": {
        "id": "UiKFwoOa7dTq",
        "colab": {
          "base_uri": "https://localhost:8080/"
        },
        "outputId": "1ce153d1-6cb4-45e3-ec92-2a8d790c5574"
      },
      "source": [
        "#6. Score the classifier using cross_val_score:\n",
        "\n",
        "scores = cross_val_score(ensemble, X, y, cv=kfold)\n",
        "\n",
        "print(scores.mean())"
      ],
      "execution_count": null,
      "outputs": [
        {
          "output_type": "stream",
          "name": "stdout",
          "text": [
            "0.98067070330694\n"
          ]
        }
      ]
    },
    {
      "cell_type": "markdown",
      "metadata": {
        "id": "02cR14Qregfn"
      },
      "source": [
        ""
      ]
    },
    {
      "cell_type": "markdown",
      "metadata": {
        "id": "NnPaODJT7dTr"
      },
      "source": [
        "## Stacking models"
      ]
    },
    {
      "cell_type": "markdown",
      "metadata": {
        "id": "tM-HhJ_N7dTs"
      },
      "source": [
        "Stacking combines machine learning models at two different levels: the base level, whose models make predictions on all the data, and the meta level, which takes the predictions of the base models as input and uses them to generate final predictions. In other words, the final model in stacking does not take the original data as input, but rather takes the predictions of the base machine learning models as input. Stacked models have found huge success in Kaggle competitions. Most Kaggle competitions have merger deadlines, where individuals and teams can join together. These mergers can lead to greater success as teams rather than individuals because competitors can build larger ensembles and stack their models together. Note that stacking is distinct from a standard ensemble on account of the metamodel that combines predictions at the end. Since the meta-model takes predictive values as the input, it's generally advised to use a simple meta-model, such as linear regression for regression and logistic regression for classification.\n"
      ]
    },
    {
      "cell_type": "markdown",
      "metadata": {
        "id": "3nWge2Ic7dTs"
      },
      "source": [
        "### Stacking in scikit-learn"
      ]
    },
    {
      "cell_type": "markdown",
      "metadata": {
        "id": "5ojcxsIi7dTs"
      },
      "source": [
        "Here are the steps to use stacking with scikit-learn:\n"
      ]
    },
    {
      "cell_type": "code",
      "metadata": {
        "id": "B_33lpKe7dTs"
      },
      "source": [
        "#1. Create an empty list of base models:\n",
        "\n",
        "base_models = []"
      ],
      "execution_count": null,
      "outputs": []
    },
    {
      "cell_type": "code",
      "metadata": {
        "id": "B2vt6wbw7dTs"
      },
      "source": [
        "#2. Append all base models to the base model list as tuples using the syntax (name, model):\n",
        "\n",
        "base_models.append(('lr', LogisticRegression()))\n",
        "\n",
        "base_models.append(('xgb', XGBClassifier(max_depth=4, n_estimators=800, learning_rate=0.1)))\n",
        "\n",
        "base_models.append(('rf', RandomForestClassifier(random_state=2)))"
      ],
      "execution_count": null,
      "outputs": []
    },
    {
      "cell_type": "markdown",
      "metadata": {
        "id": "mpTjSSNZ7dTs"
      },
      "source": [
        "More models may be chosen when stacking since there are no majority rules\n",
        "limitations and linear weights adjust more easily to new data. An optimal\n",
        "approach is to use non-correlation as loose a guideline and to experiment\n",
        "with different combinations."
      ]
    },
    {
      "cell_type": "code",
      "metadata": {
        "id": "y5MqEA867dTu"
      },
      "source": [
        "#3. Choose a meta model, preferably linear regression for regression and logistic regression for classification:\n",
        "\n",
        "meta_model = LogisticRegression()"
      ],
      "execution_count": null,
      "outputs": []
    },
    {
      "cell_type": "code",
      "metadata": {
        "id": "O-aT21Ou7dTv"
      },
      "source": [
        "#4. Initialize StackingClassifier (or StackingRegressor) using\n",
        "#base_models for estimators and meta_model for final_estimator:\n",
        "\n",
        "clf = StackingClassifier(estimators=base_models, final_estimator=meta_model)"
      ],
      "execution_count": null,
      "outputs": []
    },
    {
      "cell_type": "code",
      "metadata": {
        "id": "PgZj_A9G7dTv",
        "colab": {
          "base_uri": "https://localhost:8080/"
        },
        "outputId": "fdb8f9e7-46c1-4f6f-edf4-d48d565e1840"
      },
      "source": [
        "#5. Validate the stacked model using cross_val_score or any other scoring method:\n",
        "\n",
        "scores = cross_val_score(clf, X, y, cv=kfold)\n",
        "\n",
        "print(scores.mean())"
      ],
      "execution_count": null,
      "outputs": [
        {
          "output_type": "stream",
          "name": "stdout",
          "text": [
            "0.9806862288464524\n"
          ]
        }
      ]
    },
    {
      "cell_type": "markdown",
      "metadata": {
        "id": "c5ghWVhj7dTw"
      },
      "source": [
        "This is the strongest result yet. Stacking is an incredibly powerful method and outperformed the non-correlated ensemble from the previous section.\n"
      ]
    },
    {
      "cell_type": "code",
      "metadata": {
        "id": "wcCJ2XYT7dTw"
      },
      "source": [
        ""
      ],
      "execution_count": null,
      "outputs": []
    },
    {
      "cell_type": "markdown",
      "metadata": {
        "id": "YmhEzNuFuq6k"
      },
      "source": [
        "# DEEP LEARNING MODELS"
      ]
    },
    {
      "cell_type": "code",
      "metadata": {
        "id": "j_a2eqIDwHBO"
      },
      "source": [
        "import tensorflow as tf\n",
        "\n",
        "from keras.models import Sequential\n",
        "from tensorflow.keras.layers import Dense\n",
        "\n",
        "\n",
        "from tensorflow import keras\n",
        "from tensorflow.keras import layers"
      ],
      "execution_count": null,
      "outputs": []
    },
    {
      "cell_type": "code",
      "metadata": {
        "id": "H0VU1ZlWwWD6"
      },
      "source": [
        ""
      ],
      "execution_count": null,
      "outputs": []
    },
    {
      "cell_type": "code",
      "metadata": {
        "id": "LzqyskqHtif3"
      },
      "source": [
        "from sklearn.datasets import load_breast_cancer \n",
        "data = load_breast_cancer()\n",
        "\n"
      ],
      "execution_count": null,
      "outputs": []
    },
    {
      "cell_type": "code",
      "metadata": {
        "colab": {
          "base_uri": "https://localhost:8080/"
        },
        "id": "zpIm9VUPsHWJ",
        "outputId": "f8954da5-dc67-438a-e585-a7d67118f10f"
      },
      "source": [
        "dir(data)\n"
      ],
      "execution_count": null,
      "outputs": [
        {
          "output_type": "execute_result",
          "data": {
            "text/plain": [
              "['DESCR',\n",
              " 'data',\n",
              " 'data_module',\n",
              " 'feature_names',\n",
              " 'filename',\n",
              " 'frame',\n",
              " 'target',\n",
              " 'target_names']"
            ]
          },
          "metadata": {},
          "execution_count": 70
        }
      ]
    },
    {
      "cell_type": "code",
      "metadata": {
        "colab": {
          "base_uri": "https://localhost:8080/"
        },
        "id": "QRHfh7-8s6dx",
        "outputId": "5c2c5cd2-0223-4092-ced3-66834633bf47"
      },
      "source": [
        "data.target_names"
      ],
      "execution_count": null,
      "outputs": [
        {
          "output_type": "execute_result",
          "data": {
            "text/plain": [
              "array(['malignant', 'benign'], dtype='<U9')"
            ]
          },
          "metadata": {},
          "execution_count": 71
        }
      ]
    },
    {
      "cell_type": "code",
      "metadata": {
        "id": "gDHbHlyNvd32"
      },
      "source": [
        "# Select how the model wwill perform in the future\n",
        "from sklearn.model_selection import train_test_split\n",
        "X_train, X_test, y_train, y_test = train_test_split(data.data, data.target, test_size=0.3)\n",
        "\n",
        "# Scale the data\n",
        "from sklearn.preprocessing import StandardScaler\n",
        "scaler = StandardScaler()\n",
        "X_train = scaler.fit_transform(X_train)\n",
        "X_test = scaler.transform(X_test)"
      ],
      "execution_count": null,
      "outputs": []
    },
    {
      "cell_type": "code",
      "metadata": {
        "id": "aSIN6G8kvhYE"
      },
      "source": [
        "O, V = X_train.shape # number of observation and variables"
      ],
      "execution_count": null,
      "outputs": []
    },
    {
      "cell_type": "code",
      "metadata": {
        "colab": {
          "base_uri": "https://localhost:8080/"
        },
        "id": "9XBw-dNtvkm8",
        "outputId": "8cc862e4-f3cc-43bb-ccb7-641358cc3be9"
      },
      "source": [
        "X_train.shape"
      ],
      "execution_count": null,
      "outputs": [
        {
          "output_type": "execute_result",
          "data": {
            "text/plain": [
              "(398, 30)"
            ]
          },
          "metadata": {},
          "execution_count": 74
        }
      ]
    },
    {
      "cell_type": "code",
      "metadata": {
        "id": "u0giNyP-vmjH"
      },
      "source": [
        "def create_model():\n",
        "    model = tf.keras.models.Sequential([\n",
        "        tf.keras.layers.Input(shape=(V,)),\n",
        "        tf.keras.layers.Dense(30, activation='relu'), # use sigmoid function for every epochs\n",
        "        tf.keras.layers.Dense(15, activation='relu'),\n",
        "         tf.keras.layers.Dense(1, activation='sigmoid')\n",
        "])\n",
        "\n",
        "    model.compile(optimizer='adam', # use adaptive momentum\n",
        "              loss='binary_crossentropy',\n",
        "              metrics=['accuracy'])\n",
        "\n",
        "    return model"
      ],
      "execution_count": null,
      "outputs": []
    },
    {
      "cell_type": "code",
      "metadata": {
        "id": "yKGK2JJRxgLd"
      },
      "source": [
        "from tensorflow.keras.wrappers.scikit_learn import KerasClassifier\n",
        "\n",
        "model = KerasClassifier(build_fn=create_model, \n",
        "                        epochs=10, \n",
        "                        batch_size=32, \n",
        "                        verbose=0)\n"
      ],
      "execution_count": null,
      "outputs": []
    },
    {
      "cell_type": "markdown",
      "metadata": {
        "id": "47GR9Uslw3nO"
      },
      "source": [
        "Analyzing grid search with a Keras classifier"
      ]
    },
    {
      "cell_type": "markdown",
      "metadata": {
        "id": "9jWlTXNPxAcs"
      },
      "source": [
        "A model definition with extra arguments"
      ]
    },
    {
      "cell_type": "code",
      "metadata": {
        "id": "CNj5XG_KxG2j"
      },
      "source": [
        "from keras.layers import Dense\n",
        "def create_model_grid(activation = 'sigmoid', \n",
        "                      optimizer='adam', \n",
        "                      init='normal'):\n",
        "    # create model\n",
        "    model = Sequential()\n",
        "    \n",
        "    if activation=='relu':\n",
        "        model.add(Dense(12, input_dim=V, \n",
        "                        kernel_initializer=init, activation='relu'))\n",
        "        model.add(Dense(8, kernel_initializer=init, activation='relu'))\n",
        "    if activation=='tanh':\n",
        "        model.add(Dense(12, input_dim=V, \n",
        "                        kernel_initializer=init, activation='tanh'))\n",
        "        model.add(Dense(8, kernel_initializer=init, activation='tanh'))\n",
        "    if activation=='sigmoid':\n",
        "        model.add(Dense(12, input_dim=V, \n",
        "                        kernel_initializer=init, activation='sigmoid'))\n",
        "        model.add(Dense(8, kernel_initializer=init, activation='sigmoid'))\n",
        "    model.add(Dense(1, kernel_initializer=init, activation='sigmoid'))\n",
        "    \n",
        "    # Compile model\n",
        "    model.compile(loss='binary_crossentropy', \n",
        "                  optimizer=optimizer, \n",
        "                  metrics=['accuracy'])\n",
        "    return model"
      ],
      "execution_count": null,
      "outputs": []
    },
    {
      "cell_type": "code",
      "metadata": {
        "id": "80jn5A4bxLci"
      },
      "source": [
        "model_grid = KerasClassifier(build_fn=create_model_grid, \n",
        "                             verbose=0)"
      ],
      "execution_count": null,
      "outputs": []
    },
    {
      "cell_type": "markdown",
      "metadata": {
        "id": "-ZJVZXyXxo1k"
      },
      "source": [
        "Grid search epochs, batch size and optimizer"
      ]
    },
    {
      "cell_type": "code",
      "metadata": {
        "id": "Cz-AlI6uxN_H"
      },
      "source": [
        "activations = ['tanh','relu','sigmoid']\n",
        "optimizers = ['rmsprop', 'adam','sgd']\n",
        "initializers = ['glorot_uniform', 'normal', 'uniform']\n",
        "epochs = [5,10,25]\n",
        "batches = [8,16,64]"
      ],
      "execution_count": null,
      "outputs": []
    },
    {
      "cell_type": "markdown",
      "metadata": {
        "id": "6hgcPHTfxzTD"
      },
      "source": [
        " Create a dictionary of parameters and pass that to the GridSearchCV function as param_grid"
      ]
    },
    {
      "cell_type": "code",
      "metadata": {
        "id": "C9bWt1sSxuWp"
      },
      "source": [
        "from sklearn.model_selection import GridSearchCV\n",
        "\n",
        "param_grid = dict(activation =  activations,\n",
        "                  optimizer=optimizers, \n",
        "                  epochs=epochs, \n",
        "                  batch_size=batches, \n",
        "                  init=initializers)\n",
        "\n",
        "grid = GridSearchCV(estimator=model_grid, \n",
        "                    param_grid=param_grid,\n",
        "                    )"
      ],
      "execution_count": null,
      "outputs": []
    },
    {
      "cell_type": "code",
      "metadata": {
        "colab": {
          "base_uri": "https://localhost:8080/"
        },
        "id": "LvRkazoMz5xn",
        "outputId": "08b6e9e1-d569-4b46-bf1f-cacb6ce9a83b"
      },
      "source": [
        "grid"
      ],
      "execution_count": null,
      "outputs": [
        {
          "output_type": "execute_result",
          "data": {
            "text/plain": [
              "GridSearchCV(estimator=<keras.wrappers.scikit_learn.KerasClassifier object at 0x7f5057b554d0>,\n",
              "             param_grid={'activation': ['tanh', 'relu', 'sigmoid'],\n",
              "                         'batch_size': [8, 16, 64], 'epochs': [5, 10, 25],\n",
              "                         'init': ['glorot_uniform', 'normal', 'uniform'],\n",
              "                         'optimizer': ['rmsprop', 'adam', 'sgd']})"
            ]
          },
          "metadata": {},
          "execution_count": 81
        }
      ]
    },
    {
      "cell_type": "markdown",
      "metadata": {
        "id": "1XIUGGCE0B_M"
      },
      "source": [
        "Fit (search) the grid"
      ]
    },
    {
      "cell_type": "code",
      "metadata": {
        "id": "3TSNg-Xnz8Dt",
        "colab": {
          "base_uri": "https://localhost:8080/"
        },
        "outputId": "fafeac7c-0599-458e-9618-3e15043c4515"
      },
      "source": [
        "grid_result = grid.fit(X_train, y_train)"
      ],
      "execution_count": null,
      "outputs": [
        {
          "output_type": "stream",
          "name": "stdout",
          "text": [
            "WARNING:tensorflow:5 out of the last 15 calls to <function Model.make_test_function.<locals>.test_function at 0x7f4fe9d0ed40> triggered tf.function retracing. Tracing is expensive and the excessive number of tracings could be due to (1) creating @tf.function repeatedly in a loop, (2) passing tensors with different shapes, (3) passing Python objects instead of tensors. For (1), please define your @tf.function outside of the loop. For (2), @tf.function has experimental_relax_shapes=True option that relaxes argument shapes that can avoid unnecessary retracing. For (3), please refer to https://www.tensorflow.org/guide/function#controlling_retracing and https://www.tensorflow.org/api_docs/python/tf/function for  more details.\n",
            "WARNING:tensorflow:5 out of the last 12 calls to <function Model.make_test_function.<locals>.test_function at 0x7f4fe990f320> triggered tf.function retracing. Tracing is expensive and the excessive number of tracings could be due to (1) creating @tf.function repeatedly in a loop, (2) passing tensors with different shapes, (3) passing Python objects instead of tensors. For (1), please define your @tf.function outside of the loop. For (2), @tf.function has experimental_relax_shapes=True option that relaxes argument shapes that can avoid unnecessary retracing. For (3), please refer to https://www.tensorflow.org/guide/function#controlling_retracing and https://www.tensorflow.org/api_docs/python/tf/function for  more details.\n"
          ]
        }
      ]
    },
    {
      "cell_type": "code",
      "metadata": {
        "colab": {
          "base_uri": "https://localhost:8080/"
        },
        "id": "3liSLGrJ0E2F",
        "outputId": "a4bda526-1686-4da0-de09-d25492dac617"
      },
      "source": [
        "print(\"Best accuracy: {}\\nBest combination: {}\".format(grid_result.best_score_, \n",
        "                             grid_result.best_params_))"
      ],
      "execution_count": null,
      "outputs": [
        {
          "output_type": "stream",
          "name": "stdout",
          "text": [
            "Best accuracy: 0.9773417711257935\n",
            "Best combination: {'activation': 'relu', 'batch_size': 8, 'epochs': 25, 'init': 'glorot_uniform', 'optimizer': 'adam'}\n"
          ]
        }
      ]
    },
    {
      "cell_type": "markdown",
      "metadata": {
        "id": "hqQuqaRk5I8l"
      },
      "source": [
        "## Applying the Best combination "
      ]
    },
    {
      "cell_type": "code",
      "metadata": {
        "id": "lp6rJ8gmy6LU"
      },
      "source": [
        ""
      ],
      "execution_count": null,
      "outputs": []
    },
    {
      "cell_type": "code",
      "metadata": {
        "colab": {
          "base_uri": "https://localhost:8080/"
        },
        "id": "0rPlUWgJJl5K",
        "outputId": "8bc53a87-b88b-440d-892b-545fe4c9d346"
      },
      "source": [
        "\n",
        "model = tf.keras.models.Sequential([\n",
        "    tf.keras.layers.Input(shape=(V,)),\n",
        "    tf.keras.layers.Dense(30, activation='relu', kernel_initializer='glorot_uniform'),\n",
        "    tf.keras.layers.Dense(15, activation='relu', kernel_initializer='glorot_uniform'),\n",
        "      tf.keras.layers.Dense(1, activation='sigmoid')\n",
        "])\n",
        "\n",
        "model.compile(optimizer='adam', # use adaptive momentum\n",
        "          loss='binary_crossentropy',\n",
        "          metrics=['accuracy'])\n",
        "\n",
        "history = model.fit(\n",
        "      X_train,\n",
        "      y_train,\n",
        "      batch_size=8,\n",
        "      epochs=25,\n",
        "      validation_data=(X_test, y_test),\n",
        "      callbacks=None)\n",
        "\n"
      ],
      "execution_count": null,
      "outputs": [
        {
          "output_type": "stream",
          "name": "stdout",
          "text": [
            "Epoch 1/25\n",
            "50/50 [==============================] - 1s 16ms/step - loss: 0.5038 - accuracy: 0.8065 - val_loss: 0.3175 - val_accuracy: 0.9591\n",
            "Epoch 2/25\n",
            "50/50 [==============================] - 0s 6ms/step - loss: 0.2365 - accuracy: 0.9523 - val_loss: 0.1778 - val_accuracy: 0.9357\n",
            "Epoch 3/25\n",
            "50/50 [==============================] - 0s 8ms/step - loss: 0.1426 - accuracy: 0.9573 - val_loss: 0.1333 - val_accuracy: 0.9474\n",
            "Epoch 4/25\n",
            "50/50 [==============================] - 0s 6ms/step - loss: 0.1070 - accuracy: 0.9724 - val_loss: 0.1087 - val_accuracy: 0.9708\n",
            "Epoch 5/25\n",
            "50/50 [==============================] - 0s 6ms/step - loss: 0.0888 - accuracy: 0.9774 - val_loss: 0.0952 - val_accuracy: 0.9708\n",
            "Epoch 6/25\n",
            "50/50 [==============================] - 0s 6ms/step - loss: 0.0792 - accuracy: 0.9799 - val_loss: 0.0839 - val_accuracy: 0.9766\n",
            "Epoch 7/25\n",
            "50/50 [==============================] - 0s 6ms/step - loss: 0.0716 - accuracy: 0.9849 - val_loss: 0.0787 - val_accuracy: 0.9766\n",
            "Epoch 8/25\n",
            "50/50 [==============================] - 0s 6ms/step - loss: 0.0651 - accuracy: 0.9874 - val_loss: 0.0732 - val_accuracy: 0.9766\n",
            "Epoch 9/25\n",
            "50/50 [==============================] - 0s 6ms/step - loss: 0.0600 - accuracy: 0.9849 - val_loss: 0.0688 - val_accuracy: 0.9825\n",
            "Epoch 10/25\n",
            "50/50 [==============================] - 0s 6ms/step - loss: 0.0563 - accuracy: 0.9849 - val_loss: 0.0671 - val_accuracy: 0.9766\n",
            "Epoch 11/25\n",
            "50/50 [==============================] - 0s 6ms/step - loss: 0.0543 - accuracy: 0.9849 - val_loss: 0.0629 - val_accuracy: 0.9825\n",
            "Epoch 12/25\n",
            "50/50 [==============================] - 0s 6ms/step - loss: 0.0506 - accuracy: 0.9899 - val_loss: 0.0612 - val_accuracy: 0.9825\n",
            "Epoch 13/25\n",
            "50/50 [==============================] - 0s 5ms/step - loss: 0.0483 - accuracy: 0.9874 - val_loss: 0.0587 - val_accuracy: 0.9825\n",
            "Epoch 14/25\n",
            "50/50 [==============================] - 0s 5ms/step - loss: 0.0456 - accuracy: 0.9899 - val_loss: 0.0568 - val_accuracy: 0.9825\n",
            "Epoch 15/25\n",
            "50/50 [==============================] - 0s 6ms/step - loss: 0.0439 - accuracy: 0.9899 - val_loss: 0.0553 - val_accuracy: 0.9825\n",
            "Epoch 16/25\n",
            "50/50 [==============================] - 0s 6ms/step - loss: 0.0413 - accuracy: 0.9899 - val_loss: 0.0549 - val_accuracy: 0.9825\n",
            "Epoch 17/25\n",
            "50/50 [==============================] - 0s 6ms/step - loss: 0.0395 - accuracy: 0.9899 - val_loss: 0.0541 - val_accuracy: 0.9825\n",
            "Epoch 18/25\n",
            "50/50 [==============================] - 0s 6ms/step - loss: 0.0374 - accuracy: 0.9925 - val_loss: 0.0526 - val_accuracy: 0.9825\n",
            "Epoch 19/25\n",
            "50/50 [==============================] - 0s 6ms/step - loss: 0.0364 - accuracy: 0.9925 - val_loss: 0.0513 - val_accuracy: 0.9825\n",
            "Epoch 20/25\n",
            "50/50 [==============================] - 0s 5ms/step - loss: 0.0334 - accuracy: 0.9925 - val_loss: 0.0511 - val_accuracy: 0.9825\n",
            "Epoch 21/25\n",
            "50/50 [==============================] - 0s 5ms/step - loss: 0.0318 - accuracy: 0.9925 - val_loss: 0.0506 - val_accuracy: 0.9825\n",
            "Epoch 22/25\n",
            "50/50 [==============================] - 0s 6ms/step - loss: 0.0305 - accuracy: 0.9925 - val_loss: 0.0498 - val_accuracy: 0.9825\n",
            "Epoch 23/25\n",
            "50/50 [==============================] - 0s 6ms/step - loss: 0.0278 - accuracy: 0.9925 - val_loss: 0.0484 - val_accuracy: 0.9766\n",
            "Epoch 24/25\n",
            "50/50 [==============================] - 0s 6ms/step - loss: 0.0267 - accuracy: 0.9899 - val_loss: 0.0488 - val_accuracy: 0.9825\n",
            "Epoch 25/25\n",
            "50/50 [==============================] - 0s 5ms/step - loss: 0.0245 - accuracy: 0.9925 - val_loss: 0.0473 - val_accuracy: 0.9825\n"
          ]
        }
      ]
    },
    {
      "cell_type": "code",
      "metadata": {
        "colab": {
          "base_uri": "https://localhost:8080/"
        },
        "id": "PMSvAixZLp-L",
        "outputId": "b09b7e98-8757-4f58-f85b-2070969c3eff"
      },
      "source": [
        "print(\"Train score:\", model.evaluate(X_train, y_train))"
      ],
      "execution_count": null,
      "outputs": [
        {
          "output_type": "stream",
          "name": "stdout",
          "text": [
            "13/13 [==============================] - 0s 3ms/step - loss: 0.0218 - accuracy: 0.9950\n",
            "Train score: [0.021821700036525726, 0.9949748516082764]\n"
          ]
        }
      ]
    },
    {
      "cell_type": "code",
      "metadata": {
        "colab": {
          "base_uri": "https://localhost:8080/"
        },
        "id": "_Rcyt7bxNYxX",
        "outputId": "f1ad56f8-51e9-4959-fc91-a7da7e1003bc"
      },
      "source": [
        "print(\"Test score:\", model.evaluate(X_test, y_test))"
      ],
      "execution_count": null,
      "outputs": [
        {
          "output_type": "stream",
          "name": "stdout",
          "text": [
            "6/6 [==============================] - 0s 4ms/step - loss: 0.0473 - accuracy: 0.9825\n",
            "Test score: [0.047303155064582825, 0.9824561476707458]\n"
          ]
        }
      ]
    },
    {
      "cell_type": "code",
      "metadata": {
        "colab": {
          "base_uri": "https://localhost:8080/",
          "height": 545
        },
        "id": "UI7JWqVhQ7r-",
        "outputId": "748b1db3-2076-45c0-99a7-42461da15676"
      },
      "source": [
        "acc = history.history['accuracy']\n",
        "val_acc = history.history['val_accuracy']\n",
        "loss = history.history['loss']\n",
        "val_loss = history.history['val_loss']\n",
        "\n",
        "epochs = range(len(acc))\n",
        "\n",
        "plt.plot(epochs, acc, 'r', label='Training accuracy')\n",
        "plt.plot(epochs, val_acc, 'b', label='Validation accuracy')\n",
        "plt.title('Training and validation accuracy')\n",
        "plt.legend()\n",
        "plt.figure()\n",
        "\n",
        "plt.plot(epochs, loss, 'r', label='Training Loss')\n",
        "plt.plot(epochs, val_loss, 'b', label='Validation Loss')\n",
        "plt.title('Training and validation loss')\n",
        "plt.legend()\n",
        "\n",
        "plt.show()"
      ],
      "execution_count": null,
      "outputs": [
        {
          "output_type": "display_data",
          "data": {
            "image/png": "[encoded data removed]",
            "text/plain": [
              "<Figure size 432x288 with 1 Axes>"
            ]
          },
          "metadata": {
            "needs_background": "light"
          }
        },
        {
          "output_type": "display_data",
          "data": {
            "image/png": "[encoded data removed]",
            "text/plain": [
              "<Figure size 432x288 with 1 Axes>"
            ]
          },
          "metadata": {
            "needs_background": "light"
          }
        }
      ]
    },
    {
      "cell_type": "markdown",
      "metadata": {
        "id": "Sqs2nxkSnDxz"
      },
      "source": [
        "## Applying tf.data.Dataset"
      ]
    },
    {
      "cell_type": "code",
      "metadata": {
        "id": "-TD38_FzDfRp"
      },
      "source": [
        ""
      ],
      "execution_count": null,
      "outputs": []
    },
    {
      "cell_type": "code",
      "metadata": {
        "id": "dBQ-PW46-9vN"
      },
      "source": [
        "train_dataset = tf.data.Dataset.from_tensor_slices((X_train, y_train))\n",
        "test_dataset = tf.data.Dataset.from_tensor_slices((X_test, y_test))"
      ],
      "execution_count": null,
      "outputs": []
    },
    {
      "cell_type": "code",
      "metadata": {
        "id": "xtKj9kaD_x_l"
      },
      "source": [
        "BATCH_SIZE = 16\n",
        "SHUFFLE_BUFFER_SIZE = 10\n",
        "\n",
        "train_dataset = train_dataset.shuffle(SHUFFLE_BUFFER_SIZE).batch(BATCH_SIZE)\n",
        "test_dataset = test_dataset.batch(BATCH_SIZE)"
      ],
      "execution_count": null,
      "outputs": []
    },
    {
      "cell_type": "code",
      "metadata": {
        "id": "Ql5EYbR4_2_4"
      },
      "source": [
        "model = tf.keras.models.Sequential([\n",
        "    tf.keras.layers.Input(shape=(V,)),\n",
        "    tf.keras.layers.Dense(30, activation='relu', kernel_initializer='glorot_uniform'),\n",
        "    tf.keras.layers.Dense(15, activation='relu', kernel_initializer='glorot_uniform'),\n",
        "      tf.keras.layers.Dense(1, activation='sigmoid')\n",
        "])\n",
        "\n",
        "model.compile(optimizer='adam', # use adaptive momentum\n",
        "          loss='binary_crossentropy',\n",
        "          metrics=['accuracy'])\n",
        "\n"
      ],
      "execution_count": null,
      "outputs": []
    },
    {
      "cell_type": "code",
      "metadata": {
        "colab": {
          "base_uri": "https://localhost:8080/"
        },
        "id": "LsNjRbajFmpv",
        "outputId": "22859e95-d5df-442a-aaaa-7360ec2c526e"
      },
      "source": [
        "history = model.fit(train_dataset, epochs=25)"
      ],
      "execution_count": null,
      "outputs": [
        {
          "output_type": "stream",
          "name": "stdout",
          "text": [
            "Epoch 1/25\n",
            "25/25 [==============================] - 1s 5ms/step - loss: 0.5880 - accuracy: 0.6884\n",
            "Epoch 2/25\n",
            "25/25 [==============================] - 0s 5ms/step - loss: 0.3681 - accuracy: 0.9171\n",
            "Epoch 3/25\n",
            "25/25 [==============================] - 0s 4ms/step - loss: 0.2425 - accuracy: 0.9573\n",
            "Epoch 4/25\n",
            "25/25 [==============================] - 0s 4ms/step - loss: 0.1704 - accuracy: 0.9648\n",
            "Epoch 5/25\n",
            "25/25 [==============================] - 0s 5ms/step - loss: 0.1307 - accuracy: 0.9698\n",
            "Epoch 6/25\n",
            "25/25 [==============================] - 0s 5ms/step - loss: 0.1074 - accuracy: 0.9774\n",
            "Epoch 7/25\n",
            "25/25 [==============================] - 0s 4ms/step - loss: 0.0925 - accuracy: 0.9799\n",
            "Epoch 8/25\n",
            "25/25 [==============================] - 0s 4ms/step - loss: 0.0826 - accuracy: 0.9799\n",
            "Epoch 9/25\n",
            "25/25 [==============================] - 0s 5ms/step - loss: 0.0753 - accuracy: 0.9799\n",
            "Epoch 10/25\n",
            "25/25 [==============================] - 0s 4ms/step - loss: 0.0697 - accuracy: 0.9824\n",
            "Epoch 11/25\n",
            "25/25 [==============================] - 0s 5ms/step - loss: 0.0652 - accuracy: 0.9849\n",
            "Epoch 12/25\n",
            "25/25 [==============================] - 0s 4ms/step - loss: 0.0615 - accuracy: 0.9849\n",
            "Epoch 13/25\n",
            "25/25 [==============================] - 0s 4ms/step - loss: 0.0583 - accuracy: 0.9849\n",
            "Epoch 14/25\n",
            "25/25 [==============================] - 0s 4ms/step - loss: 0.0556 - accuracy: 0.9849\n",
            "Epoch 15/25\n",
            "25/25 [==============================] - 0s 4ms/step - loss: 0.0532 - accuracy: 0.9849\n",
            "Epoch 16/25\n",
            "25/25 [==============================] - 0s 4ms/step - loss: 0.0509 - accuracy: 0.9849\n",
            "Epoch 17/25\n",
            "25/25 [==============================] - 0s 4ms/step - loss: 0.0489 - accuracy: 0.9874\n",
            "Epoch 18/25\n",
            "25/25 [==============================] - 0s 4ms/step - loss: 0.0469 - accuracy: 0.9874\n",
            "Epoch 19/25\n",
            "25/25 [==============================] - 0s 4ms/step - loss: 0.0451 - accuracy: 0.9874\n",
            "Epoch 20/25\n",
            "25/25 [==============================] - 0s 4ms/step - loss: 0.0433 - accuracy: 0.9874\n",
            "Epoch 21/25\n",
            "25/25 [==============================] - 0s 4ms/step - loss: 0.0416 - accuracy: 0.9899\n",
            "Epoch 22/25\n",
            "25/25 [==============================] - 0s 4ms/step - loss: 0.0399 - accuracy: 0.9899\n",
            "Epoch 23/25\n",
            "25/25 [==============================] - 0s 4ms/step - loss: 0.0382 - accuracy: 0.9925\n",
            "Epoch 24/25\n",
            "25/25 [==============================] - 0s 4ms/step - loss: 0.0367 - accuracy: 0.9925\n",
            "Epoch 25/25\n",
            "25/25 [==============================] - 0s 4ms/step - loss: 0.0351 - accuracy: 0.9925\n"
          ]
        }
      ]
    },
    {
      "cell_type": "code",
      "metadata": {
        "colab": {
          "base_uri": "https://localhost:8080/"
        },
        "id": "nMZr0iOuFrQl",
        "outputId": "f9e7f3f6-0397-48ef-a5c5-39f3f4a16323"
      },
      "source": [
        "print(\"Train score:\", model.evaluate(train_dataset))"
      ],
      "execution_count": null,
      "outputs": [
        {
          "output_type": "stream",
          "name": "stdout",
          "text": [
            "25/25 [==============================] - 0s 3ms/step - loss: 0.0335 - accuracy: 0.9925\n",
            "Train score: [0.03351357579231262, 0.9924623370170593]\n"
          ]
        }
      ]
    },
    {
      "cell_type": "code",
      "metadata": {
        "colab": {
          "base_uri": "https://localhost:8080/"
        },
        "id": "Lx__hjxAFwzr",
        "outputId": "637b5234-69fa-4f96-a6b6-cb2879392c1f"
      },
      "source": [
        "print(\"Train score:\", model.evaluate(test_dataset))"
      ],
      "execution_count": null,
      "outputs": [
        {
          "output_type": "stream",
          "name": "stdout",
          "text": [
            "11/11 [==============================] - 0s 3ms/step - loss: 0.0561 - accuracy: 0.9825\n",
            "Train score: [0.05614845082163811, 0.9824561476707458]\n"
          ]
        }
      ]
    },
    {
      "cell_type": "code",
      "metadata": {
        "colab": {
          "base_uri": "https://localhost:8080/"
        },
        "id": "0yUisMYrFztS",
        "outputId": "4a21b6ec-0469-4614-b6ce-9d2a7be89563"
      },
      "source": [
        "history_dict = history.history\n",
        "print(history_dict.keys())"
      ],
      "execution_count": null,
      "outputs": [
        {
          "output_type": "stream",
          "name": "stdout",
          "text": [
            "dict_keys(['loss', 'accuracy'])\n"
          ]
        }
      ]
    },
    {
      "cell_type": "markdown",
      "source": [
        "Conclusion:\n",
        "\n",
        "The best result that could be obtained was with the Deep Learning model, surpassing XGBoost, at the same time as predicted by the theory, surpassing the other Machine Learning models. The accuracy of the train set is 99.50% and that of the test set is 98.25%."
      ],
      "metadata": {
        "id": "2I58uQEXGBRq"
      }
    },
    {
      "cell_type": "code",
      "source": [
        ""
      ],
      "metadata": {
        "id": "87i8L-LIb7Sk"
      },
      "execution_count": null,
      "outputs": []
    }
  ]
}